{
 "cells": [
  {
   "cell_type": "code",
   "execution_count": 1,
   "metadata": {},
   "outputs": [],
   "source": [
    "from pyspark.sql import SparkSession"
   ]
  },
  {
   "cell_type": "code",
   "execution_count": 2,
   "metadata": {},
   "outputs": [],
   "source": [
    "spark = SparkSession.builder.appName('nlp').getOrCreate()"
   ]
  },
  {
   "cell_type": "code",
   "execution_count": 3,
   "metadata": {},
   "outputs": [],
   "source": [
    "from pyspark.ml.feature import Tokenizer, RegexTokenizer"
   ]
  },
  {
   "cell_type": "code",
   "execution_count": 6,
   "metadata": {},
   "outputs": [],
   "source": [
    "from pyspark.sql.functions import col,udf\n",
    "from pyspark.sql.types import IntegerType"
   ]
  },
  {
   "cell_type": "code",
   "execution_count": 11,
   "metadata": {},
   "outputs": [],
   "source": [
    "sen_df = spark.createDataFrame([\n",
    "    (0, 'I love learning spark'),\n",
    "    (1, 'I would also like to learn scala'),\n",
    "    (2, 'Yesterday the temperature was -7 celcius'),\n",
    "    (3, 'Enthusiastic,innovative,happy,energetic,willing')\n",
    "],['id','sentence'])"
   ]
  },
  {
   "cell_type": "code",
   "execution_count": 13,
   "metadata": {},
   "outputs": [
    {
     "name": "stdout",
     "output_type": "stream",
     "text": [
      "+---+-----------------------------------------------+\n",
      "|id |sentence                                       |\n",
      "+---+-----------------------------------------------+\n",
      "|0  |I love learning spark                          |\n",
      "|1  |I would also like to learn scala               |\n",
      "|2  |Yesterday the temperature was -7 celcius       |\n",
      "|3  |Enthusiastic,innovative,happy,energetic,willing|\n",
      "+---+-----------------------------------------------+\n",
      "\n"
     ]
    }
   ],
   "source": [
    "sen_df.show(truncate=False)"
   ]
  },
  {
   "cell_type": "code",
   "execution_count": 14,
   "metadata": {},
   "outputs": [],
   "source": [
    "tokenizer = Tokenizer(inputCol='sentence', outputCol='words')"
   ]
  },
  {
   "cell_type": "code",
   "execution_count": 16,
   "metadata": {},
   "outputs": [],
   "source": [
    "regex_tokenizer = RegexTokenizer(inputCol='sentence',outputCol='words', pattern='\\\\W')"
   ]
  },
  {
   "cell_type": "code",
   "execution_count": 17,
   "metadata": {},
   "outputs": [],
   "source": [
    "count_tokens = udf(lambda words:len(words),IntegerType())"
   ]
  },
  {
   "cell_type": "code",
   "execution_count": 18,
   "metadata": {},
   "outputs": [],
   "source": [
    "tokenized = tokenizer.transform(sen_df)"
   ]
  },
  {
   "cell_type": "code",
   "execution_count": 20,
   "metadata": {},
   "outputs": [
    {
     "name": "stdout",
     "output_type": "stream",
     "text": [
      "+---+-----------------------------------------------+-------------------------------------------------+\n",
      "|id |sentence                                       |words                                            |\n",
      "+---+-----------------------------------------------+-------------------------------------------------+\n",
      "|0  |I love learning spark                          |[i, love, learning, spark]                       |\n",
      "|1  |I would also like to learn scala               |[i, would, also, like, to, learn, scala]         |\n",
      "|2  |Yesterday the temperature was -7 celcius       |[yesterday, the, temperature, was, -7, celcius]  |\n",
      "|3  |Enthusiastic,innovative,happy,energetic,willing|[enthusiastic,innovative,happy,energetic,willing]|\n",
      "+---+-----------------------------------------------+-------------------------------------------------+\n",
      "\n"
     ]
    }
   ],
   "source": [
    "tokenized.show(truncate=False)"
   ]
  },
  {
   "cell_type": "code",
   "execution_count": 21,
   "metadata": {},
   "outputs": [
    {
     "name": "stdout",
     "output_type": "stream",
     "text": [
      "+---+--------------------+--------------------+------+\n",
      "| id|            sentence|               words|tokens|\n",
      "+---+--------------------+--------------------+------+\n",
      "|  0|I love learning s...|[i, love, learnin...|     4|\n",
      "|  1|I would also like...|[i, would, also, ...|     7|\n",
      "|  2|Yesterday the tem...|[yesterday, the, ...|     6|\n",
      "|  3|Enthusiastic,inno...|[enthusiastic,inn...|     1|\n",
      "+---+--------------------+--------------------+------+\n",
      "\n"
     ]
    }
   ],
   "source": [
    "tokenized.withColumn('tokens', count_tokens(col('words'))).show()"
   ]
  },
  {
   "cell_type": "code",
   "execution_count": 22,
   "metadata": {},
   "outputs": [],
   "source": [
    "rg_tokenized = regex_tokenizer.transform(sen_df)"
   ]
  },
  {
   "cell_type": "code",
   "execution_count": 24,
   "metadata": {},
   "outputs": [
    {
     "name": "stdout",
     "output_type": "stream",
     "text": [
      "+---+-----------------------------------------------+-----------------------------------------------------+------+\n",
      "|id |sentence                                       |words                                                |tokens|\n",
      "+---+-----------------------------------------------+-----------------------------------------------------+------+\n",
      "|0  |I love learning spark                          |[i, love, learning, spark]                           |4     |\n",
      "|1  |I would also like to learn scala               |[i, would, also, like, to, learn, scala]             |7     |\n",
      "|2  |Yesterday the temperature was -7 celcius       |[yesterday, the, temperature, was, 7, celcius]       |6     |\n",
      "|3  |Enthusiastic,innovative,happy,energetic,willing|[enthusiastic, innovative, happy, energetic, willing]|5     |\n",
      "+---+-----------------------------------------------+-----------------------------------------------------+------+\n",
      "\n"
     ]
    }
   ],
   "source": [
    "rg_tokenized.withColumn('tokens', count_tokens(col('words'))).show(truncate=False)"
   ]
  },
  {
   "cell_type": "code",
   "execution_count": 25,
   "metadata": {},
   "outputs": [],
   "source": [
    "from pyspark.ml.feature import StopWordsRemover"
   ]
  },
  {
   "cell_type": "code",
   "execution_count": 28,
   "metadata": {},
   "outputs": [],
   "source": [
    "sentence_df = spark.createDataFrame([\n",
    "    (0, ['I','will','pizza','tonight','with','Theo']),\n",
    "    (1, ['The','sun','has','not','appeared','for','40','days'])\n",
    "],['id','tokens'])"
   ]
  },
  {
   "cell_type": "code",
   "execution_count": 32,
   "metadata": {},
   "outputs": [],
   "source": [
    "remover = StopWordsRemover(inputCol='tokens', outputCol='filtered')"
   ]
  },
  {
   "cell_type": "code",
   "execution_count": 35,
   "metadata": {},
   "outputs": [
    {
     "name": "stdout",
     "output_type": "stream",
     "text": [
      "+---+---------------------------------------------+-------------------------+\n",
      "|id |tokens                                       |filtered                 |\n",
      "+---+---------------------------------------------+-------------------------+\n",
      "|0  |[I, will, pizza, tonight, with, Theo]        |[pizza, tonight, Theo]   |\n",
      "|1  |[The, sun, has, not, appeared, for, 40, days]|[sun, appeared, 40, days]|\n",
      "+---+---------------------------------------------+-------------------------+\n",
      "\n"
     ]
    }
   ],
   "source": [
    "remover.transform(sentence_df).show(truncate=False)"
   ]
  },
  {
   "cell_type": "code",
   "execution_count": 36,
   "metadata": {},
   "outputs": [],
   "source": [
    "from pyspark.ml.feature import NGram"
   ]
  },
  {
   "cell_type": "code",
   "execution_count": 40,
   "metadata": {},
   "outputs": [],
   "source": [
    "word_df = spark.createDataFrame([\n",
    "    (0, ['I','will','pizza','tonight','with','Theo']),\n",
    "    (1, ['The','sun','has','not','appeared','for','40','days'])\n",
    "],['id','words'])"
   ]
  },
  {
   "cell_type": "code",
   "execution_count": 41,
   "metadata": {},
   "outputs": [],
   "source": [
    "ngram = NGram(n=2, inputCol='words',outputCol='grams')"
   ]
  },
  {
   "cell_type": "code",
   "execution_count": 42,
   "metadata": {},
   "outputs": [
    {
     "name": "stdout",
     "output_type": "stream",
     "text": [
      "+---+--------------------+--------------------+\n",
      "| id|               words|               grams|\n",
      "+---+--------------------+--------------------+\n",
      "|  0|[I, will, pizza, ...|[I will, will piz...|\n",
      "|  1|[The, sun, has, n...|[The sun, sun has...|\n",
      "+---+--------------------+--------------------+\n",
      "\n"
     ]
    }
   ],
   "source": [
    "ngram.transform(word_df).show(trunc)"
   ]
  },
  {
   "cell_type": "code",
   "execution_count": null,
   "metadata": {},
   "outputs": [],
   "source": []
  }
 ],
 "metadata": {
  "kernelspec": {
   "display_name": "Python 3",
   "language": "python",
   "name": "python3"
  },
  "language_info": {
   "codemirror_mode": {
    "name": "ipython",
    "version": 3
   },
   "file_extension": ".py",
   "mimetype": "text/x-python",
   "name": "python",
   "nbconvert_exporter": "python",
   "pygments_lexer": "ipython3",
   "version": "3.7.5"
  }
 },
 "nbformat": 4,
 "nbformat_minor": 1
}
